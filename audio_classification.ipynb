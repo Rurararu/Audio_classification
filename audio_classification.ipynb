{
 "cells": [
  {
   "cell_type": "code",
   "id": "initial_id",
   "metadata": {
    "collapsed": true,
    "ExecuteTime": {
     "end_time": "2025-09-26T20:30:29.943470Z",
     "start_time": "2025-09-26T20:30:17.765603Z"
    }
   },
   "source": [
    "import torch\n",
    "from torch import nn\n",
    "from torch.optim import Adam\n",
    "from torchsummary import summary\n",
    "import librosa\n",
    "from torch.utils.data import DataLoader, Dataset\n",
    "from sklearn.preprocessing import LabelEncoder\n",
    "import numpy as np\n",
    "import matplotlib.pyplot as plt\n",
    "import pandas as pd\n",
    "import time\n",
    "import os\n",
    "from skimage.transform import resize\n",
    "\n",
    "device = \"cuda\" if torch.cuda.is_available() else \"cpu\""
   ],
   "outputs": [],
   "execution_count": 1
  },
  {
   "metadata": {
    "ExecuteTime": {
     "end_time": "2025-09-26T20:30:34.553704Z",
     "start_time": "2025-09-26T20:30:34.512135Z"
    }
   },
   "cell_type": "code",
   "source": "data_df = pd.read_csv(\"data/files_paths.csv\")",
   "id": "caf84e82a5095450",
   "outputs": [],
   "execution_count": 2
  },
  {
   "metadata": {
    "ExecuteTime": {
     "end_time": "2025-09-26T20:30:35.266830Z",
     "start_time": "2025-09-26T20:30:35.236168Z"
    }
   },
   "cell_type": "code",
   "source": "data_df.sample(5)",
   "id": "52b83ee2c84dd9d6",
   "outputs": [
    {
     "data": {
      "text/plain": [
       "                                              FilePath                 Class\n",
       "2770  ./Dataset/Bander_Balilah/bander_noiseRed_034.wav        Bander_Balilah\n",
       "4963   ./Dataset/AbdulRahman_Alsudais/alsudais_167.wav  AbdulRahman_Alsudais\n",
       "1204  ./Dataset/Maher_Almuaiqly/Maher_noiseRed_120.wav       Maher_Almuaiqly\n",
       "5334     ./Dataset/AbdulRahman_Alsudais/السديس_107.wav  AbdulRahman_Alsudais\n",
       "6268     ./Dataset/Abdullah_Albuaijan/Abdullah_427.wav    Abdullah_Albuaijan"
      ],
      "text/html": [
       "<div>\n",
       "<style scoped>\n",
       "    .dataframe tbody tr th:only-of-type {\n",
       "        vertical-align: middle;\n",
       "    }\n",
       "\n",
       "    .dataframe tbody tr th {\n",
       "        vertical-align: top;\n",
       "    }\n",
       "\n",
       "    .dataframe thead th {\n",
       "        text-align: right;\n",
       "    }\n",
       "</style>\n",
       "<table border=\"1\" class=\"dataframe\">\n",
       "  <thead>\n",
       "    <tr style=\"text-align: right;\">\n",
       "      <th></th>\n",
       "      <th>FilePath</th>\n",
       "      <th>Class</th>\n",
       "    </tr>\n",
       "  </thead>\n",
       "  <tbody>\n",
       "    <tr>\n",
       "      <th>2770</th>\n",
       "      <td>./Dataset/Bander_Balilah/bander_noiseRed_034.wav</td>\n",
       "      <td>Bander_Balilah</td>\n",
       "    </tr>\n",
       "    <tr>\n",
       "      <th>4963</th>\n",
       "      <td>./Dataset/AbdulRahman_Alsudais/alsudais_167.wav</td>\n",
       "      <td>AbdulRahman_Alsudais</td>\n",
       "    </tr>\n",
       "    <tr>\n",
       "      <th>1204</th>\n",
       "      <td>./Dataset/Maher_Almuaiqly/Maher_noiseRed_120.wav</td>\n",
       "      <td>Maher_Almuaiqly</td>\n",
       "    </tr>\n",
       "    <tr>\n",
       "      <th>5334</th>\n",
       "      <td>./Dataset/AbdulRahman_Alsudais/السديس_107.wav</td>\n",
       "      <td>AbdulRahman_Alsudais</td>\n",
       "    </tr>\n",
       "    <tr>\n",
       "      <th>6268</th>\n",
       "      <td>./Dataset/Abdullah_Albuaijan/Abdullah_427.wav</td>\n",
       "      <td>Abdullah_Albuaijan</td>\n",
       "    </tr>\n",
       "  </tbody>\n",
       "</table>\n",
       "</div>"
      ]
     },
     "execution_count": 3,
     "metadata": {},
     "output_type": "execute_result"
    }
   ],
   "execution_count": 3
  },
  {
   "metadata": {
    "ExecuteTime": {
     "end_time": "2025-09-26T20:30:36.133033Z",
     "start_time": "2025-09-26T20:30:36.121654Z"
    }
   },
   "cell_type": "code",
   "source": [
    "print(data_df[\"Class\"].unique())\n",
    "print(len(data_df[\"Class\"].unique()))\n"
   ],
   "id": "2584da51d6597a80",
   "outputs": [
    {
     "name": "stdout",
     "output_type": "stream",
     "text": [
      "['Mohammed_Aluhaidan' 'Yasser_Aldossary' 'Maher_Almuaiqly'\n",
      " 'Nasser_Alqutami' 'AbdulBari_Althubaity' 'Bander_Balilah'\n",
      " 'Ali_Alhothaify' 'Saud_Alshuraim' 'Mohammed_Ayoub' 'AbdulRahman_Alsudais'\n",
      " 'Saad_Alghamdi' 'Abdullah_Albuaijan']\n",
      "12\n"
     ]
    }
   ],
   "execution_count": 4
  },
  {
   "metadata": {
    "ExecuteTime": {
     "end_time": "2025-09-26T20:30:36.952178Z",
     "start_time": "2025-09-26T20:30:36.930797Z"
    }
   },
   "cell_type": "code",
   "source": [
    "data_df[\"FilePath\"] = 'data/Dataset'+data_df[\"FilePath\"].str[1:]\n",
    "\n",
    "data_df.head()"
   ],
   "id": "7098d95f474740c4",
   "outputs": [
    {
     "data": {
      "text/plain": [
       "                                            FilePath               Class\n",
       "0  data/Dataset/Dataset/Mohammed_Aluhaidan/lohaid...  Mohammed_Aluhaidan\n",
       "1  data/Dataset/Dataset/Mohammed_Aluhaidan/lohaid...  Mohammed_Aluhaidan\n",
       "2  data/Dataset/Dataset/Mohammed_Aluhaidan/lohaid...  Mohammed_Aluhaidan\n",
       "3  data/Dataset/Dataset/Mohammed_Aluhaidan/lohaid...  Mohammed_Aluhaidan\n",
       "4  data/Dataset/Dataset/Mohammed_Aluhaidan/lohaid...  Mohammed_Aluhaidan"
      ],
      "text/html": [
       "<div>\n",
       "<style scoped>\n",
       "    .dataframe tbody tr th:only-of-type {\n",
       "        vertical-align: middle;\n",
       "    }\n",
       "\n",
       "    .dataframe tbody tr th {\n",
       "        vertical-align: top;\n",
       "    }\n",
       "\n",
       "    .dataframe thead th {\n",
       "        text-align: right;\n",
       "    }\n",
       "</style>\n",
       "<table border=\"1\" class=\"dataframe\">\n",
       "  <thead>\n",
       "    <tr style=\"text-align: right;\">\n",
       "      <th></th>\n",
       "      <th>FilePath</th>\n",
       "      <th>Class</th>\n",
       "    </tr>\n",
       "  </thead>\n",
       "  <tbody>\n",
       "    <tr>\n",
       "      <th>0</th>\n",
       "      <td>data/Dataset/Dataset/Mohammed_Aluhaidan/lohaid...</td>\n",
       "      <td>Mohammed_Aluhaidan</td>\n",
       "    </tr>\n",
       "    <tr>\n",
       "      <th>1</th>\n",
       "      <td>data/Dataset/Dataset/Mohammed_Aluhaidan/lohaid...</td>\n",
       "      <td>Mohammed_Aluhaidan</td>\n",
       "    </tr>\n",
       "    <tr>\n",
       "      <th>2</th>\n",
       "      <td>data/Dataset/Dataset/Mohammed_Aluhaidan/lohaid...</td>\n",
       "      <td>Mohammed_Aluhaidan</td>\n",
       "    </tr>\n",
       "    <tr>\n",
       "      <th>3</th>\n",
       "      <td>data/Dataset/Dataset/Mohammed_Aluhaidan/lohaid...</td>\n",
       "      <td>Mohammed_Aluhaidan</td>\n",
       "    </tr>\n",
       "    <tr>\n",
       "      <th>4</th>\n",
       "      <td>data/Dataset/Dataset/Mohammed_Aluhaidan/lohaid...</td>\n",
       "      <td>Mohammed_Aluhaidan</td>\n",
       "    </tr>\n",
       "  </tbody>\n",
       "</table>\n",
       "</div>"
      ]
     },
     "execution_count": 5,
     "metadata": {},
     "output_type": "execute_result"
    }
   ],
   "execution_count": 5
  },
  {
   "metadata": {
    "ExecuteTime": {
     "end_time": "2025-09-26T20:30:37.765599Z",
     "start_time": "2025-09-26T20:30:37.758305Z"
    }
   },
   "cell_type": "code",
   "source": "data_df['FilePath'].iloc[2]",
   "id": "e2547adac5f3a60c",
   "outputs": [
    {
     "data": {
      "text/plain": [
       "'data/Dataset/Dataset/Mohammed_Aluhaidan/lohaidan_401.wav'"
      ]
     },
     "execution_count": 6,
     "metadata": {},
     "output_type": "execute_result"
    }
   ],
   "execution_count": 6
  },
  {
   "metadata": {
    "ExecuteTime": {
     "end_time": "2025-09-26T20:30:38.889852Z",
     "start_time": "2025-09-26T20:30:38.447606Z"
    }
   },
   "cell_type": "code",
   "source": [
    "print(\"Class distribution: \", data_df[\"Class\"].value_counts())\n",
    "print(\"Data shape: \", data_df.shape, \"\\n\")\n",
    "\n",
    "plt.figure(figsize=(8,8))\n",
    "\n",
    "plt.pie(data_df[\"Class\"].value_counts(),labels=data_df[\"Class\"].value_counts().index, autopct='%1.1f%%')\n",
    "\n",
    "plt.title(\"Class distribution\")\n",
    "plt.show()"
   ],
   "id": "372d3a8f1604f48e",
   "outputs": [
    {
     "name": "stdout",
     "output_type": "stream",
     "text": [
      "Class distribution:  Class\n",
      "Saud_Alshuraim          696\n",
      "Saad_Alghamdi           688\n",
      "AbdulRahman_Alsudais    648\n",
      "Yasser_Aldossary        576\n",
      "Ali_Alhothaify          576\n",
      "Bander_Balilah          576\n",
      "Maher_Almuaiqly         576\n",
      "Abdullah_Albuaijan      504\n",
      "Mohammed_Ayoub          480\n",
      "Nasser_Alqutami         456\n",
      "AbdulBari_Althubaity    456\n",
      "Mohammed_Aluhaidan      455\n",
      "Name: count, dtype: int64\n",
      "Data shape:  (6687, 2) \n",
      "\n"
     ]
    },
    {
     "data": {
      "text/plain": [
       "<Figure size 800x800 with 1 Axes>"
      ],
      "image/png": "[encoded data removed]"
     },
     "metadata": {},
     "output_type": "display_data"
    }
   ],
   "execution_count": 7
  },
  {
   "metadata": {
    "ExecuteTime": {
     "end_time": "2025-09-26T20:30:39.763805Z",
     "start_time": "2025-09-26T20:30:39.734403Z"
    }
   },
   "cell_type": "code",
   "source": [
    "label_encoder = LabelEncoder()\n",
    "data_df[\"Class\"] = label_encoder.fit_transform(data_df[\"Class\"])\n",
    "\n",
    "train = data_df.sample(frac=0.7, random_state = 7)\n",
    "test = data_df.drop(train.index)\n",
    "\n",
    "val = test.sample(frac=0.5, random_state = 7)\n",
    "test = test.drop(val.index)\n",
    "\n",
    "print(\"Train shape: \", train.shape)\n",
    "print(\"Val shape: \", val.shape)\n",
    "print(\"Test shape: \", test.shape)"
   ],
   "id": "fe19848bcb8b9fd2",
   "outputs": [
    {
     "name": "stdout",
     "output_type": "stream",
     "text": [
      "Train shape:  (4681, 2)\n",
      "Val shape:  (1003, 2)\n",
      "Test shape:  (1003, 2)\n"
     ]
    }
   ],
   "execution_count": 8
  },
  {
   "metadata": {
    "ExecuteTime": {
     "end_time": "2025-09-26T20:30:40.588300Z",
     "start_time": "2025-09-26T20:30:40.574545Z"
    }
   },
   "cell_type": "code",
   "source": [
    "class CustomAudioDataset(Dataset):\n",
    "    def __init__(self, dataframe):\n",
    "        self.dataframe = dataframe\n",
    "        self.labels = torch.Tensor(list(dataframe[\"Class\"])).type(torch.LongTensor).to(device)\n",
    "        self.audios = [torch.Tensor(self.get_spectrogram(path)).type(torch.FloatTensor) for path in dataframe['FilePath']]\n",
    "\n",
    "    def __len__(self):\n",
    "        return self.dataframe.shape[0]\n",
    "\n",
    "    def __getitem__(self, idx):\n",
    "        img_path = self.dataframe.iloc[idx, 0]\n",
    "        label = torch.Tensor(self.labels[idx]).to(device)\n",
    "        audio = (self.audios[idx]).unsqueeze(0).to(device)\n",
    "        return audio, label\n",
    "\n",
    "    def get_spectrogram(self, file_path):\n",
    "        sr = 22050\n",
    "        duration = 5\n",
    "        img_height = 128\n",
    "        img_width = 256\n",
    "\n",
    "        signal, sr = librosa.load(file_path, sr=sr, duration=duration)\n",
    "\n",
    "        spec = librosa.feature.melspectrogram(y=signal, sr=sr, n_fft=2048, hop_length=512, n_mels=128)\n",
    "        spec_db = librosa.power_to_db(spec, ref=np.max)\n",
    "\n",
    "        spec_resized = librosa.util.fix_length(spec_db, size = duration * sr // 512 + 1)\n",
    "        spec_resized = resize(spec_resized, (img_height, img_width), anti_aliasing=True)\n",
    "\n",
    "        return spec_resized"
   ],
   "id": "f4d02a0f5665536d",
   "outputs": [],
   "execution_count": 9
  },
  {
   "metadata": {
    "ExecuteTime": {
     "end_time": "2025-09-26T20:33:08.307515Z",
     "start_time": "2025-09-26T20:30:41.356519Z"
    }
   },
   "cell_type": "code",
   "source": [
    "train_dataset = CustomAudioDataset(dataframe=train)\n",
    "val_dataset = CustomAudioDataset(dataframe=val)\n",
    "test_dataset = CustomAudioDataset(dataframe=test)"
   ],
   "id": "c04d48d531a4377a",
   "outputs": [],
   "execution_count": 10
  },
  {
   "metadata": {
    "ExecuteTime": {
     "end_time": "2025-09-26T20:33:12.754990Z",
     "start_time": "2025-09-26T20:33:12.741934Z"
    }
   },
   "cell_type": "code",
   "source": [
    "LR = 1e-4\n",
    "BATCH_SIZE = 16\n",
    "EPOCHS = 15"
   ],
   "id": "7aff426bf97ad3d6",
   "outputs": [],
   "execution_count": 11
  },
  {
   "metadata": {
    "ExecuteTime": {
     "end_time": "2025-09-26T20:33:13.360977Z",
     "start_time": "2025-09-26T20:33:13.340192Z"
    }
   },
   "cell_type": "code",
   "source": [
    "train_loader = DataLoader(train_dataset, batch_size=BATCH_SIZE, shuffle=True)\n",
    "val_loader = DataLoader(val_dataset, batch_size=BATCH_SIZE, shuffle=True)\n",
    "test_loader = DataLoader(test_dataset, batch_size=BATCH_SIZE, shuffle=True)"
   ],
   "id": "4729a63cc6db6f02",
   "outputs": [],
   "execution_count": 12
  },
  {
   "metadata": {
    "ExecuteTime": {
     "end_time": "2025-09-26T20:33:14.435462Z",
     "start_time": "2025-09-26T20:33:14.407105Z"
    }
   },
   "cell_type": "code",
   "source": [
    "class Net(nn.Module):\n",
    "    def __init__(self):\n",
    "        super().__init__()\n",
    "\n",
    "        self.conv1 = nn.Conv2d(1, 16, kernel_size=3, padding=1)\n",
    "        self.conv2 = nn.Conv2d(16, 32, kernel_size=3, padding=1)\n",
    "        self.conv3 = nn.Conv2d(32, 64, kernel_size=3, padding=1)\n",
    "        self.pooling = nn.MaxPool2d(2,2)\n",
    "        self.relu = nn.ReLU()\n",
    "\n",
    "        self.flatten = nn.Flatten()\n",
    "        self.linear1 = nn.Linear(64*16*32, 4096)\n",
    "        self.linear2 = nn.Linear(4096, 1024)\n",
    "        self.linear3 = nn.Linear(1024, 512)\n",
    "        self.output = nn.Linear(512, len(data_df['Class'].unique()))\n",
    "\n",
    "        self.dropout = nn.Dropout(0.5)\n",
    "\n",
    "    def forward(self, x):\n",
    "        x = self.conv1(x)\n",
    "        x = self.pooling(x)\n",
    "        x = self.conv2(x)\n",
    "        x = self.pooling(x)\n",
    "        x = self.conv3(x)\n",
    "        x = self.pooling(x)\n",
    "        x = self.relu(x)\n",
    "\n",
    "        x = x.view(x.size(0), -1)\n",
    "\n",
    "        x = self.flatten(x)\n",
    "        x = self.linear1(x)\n",
    "        x = self.dropout(x)\n",
    "\n",
    "        x = self.linear2(x)\n",
    "        x = self.dropout(x)\n",
    "\n",
    "        x = self.linear3(x)\n",
    "        x = self.dropout(x)\n",
    "\n",
    "        x = self.output(x)\n",
    "\n",
    "        return x"
   ],
   "id": "e0ba7cc5e6fe3670",
   "outputs": [],
   "execution_count": 13
  },
  {
   "metadata": {
    "ExecuteTime": {
     "end_time": "2025-09-26T20:33:16.070327Z",
     "start_time": "2025-09-26T20:33:15.198839Z"
    }
   },
   "cell_type": "code",
   "source": [
    "model = Net().to(device)\n",
    "\n",
    "print(model)"
   ],
   "id": "8f26d5bcda4e5f42",
   "outputs": [
    {
     "name": "stdout",
     "output_type": "stream",
     "text": [
      "Net(\n",
      "  (conv1): Conv2d(1, 16, kernel_size=(3, 3), stride=(1, 1), padding=(1, 1))\n",
      "  (conv2): Conv2d(16, 32, kernel_size=(3, 3), stride=(1, 1), padding=(1, 1))\n",
      "  (conv3): Conv2d(32, 64, kernel_size=(3, 3), stride=(1, 1), padding=(1, 1))\n",
      "  (pooling): MaxPool2d(kernel_size=2, stride=2, padding=0, dilation=1, ceil_mode=False)\n",
      "  (relu): ReLU()\n",
      "  (flatten): Flatten(start_dim=1, end_dim=-1)\n",
      "  (linear1): Linear(in_features=32768, out_features=4096, bias=True)\n",
      "  (linear2): Linear(in_features=4096, out_features=1024, bias=True)\n",
      "  (linear3): Linear(in_features=1024, out_features=512, bias=True)\n",
      "  (output): Linear(in_features=512, out_features=12, bias=True)\n",
      "  (dropout): Dropout(p=0.5, inplace=False)\n",
      ")\n"
     ]
    }
   ],
   "execution_count": 14
  },
  {
   "metadata": {
    "ExecuteTime": {
     "end_time": "2025-09-26T20:33:16.388223Z",
     "start_time": "2025-09-26T20:33:16.079786Z"
    }
   },
   "cell_type": "code",
   "source": "summary(model, (1,128, 256))",
   "id": "80cf473a9d2d215",
   "outputs": [
    {
     "name": "stdout",
     "output_type": "stream",
     "text": [
      "----------------------------------------------------------------\n",
      "        Layer (type)               Output Shape         Param #\n",
      "================================================================\n",
      "            Conv2d-1         [-1, 16, 128, 256]             160\n",
      "         MaxPool2d-2          [-1, 16, 64, 128]               0\n",
      "            Conv2d-3          [-1, 32, 64, 128]           4,640\n",
      "         MaxPool2d-4           [-1, 32, 32, 64]               0\n",
      "            Conv2d-5           [-1, 64, 32, 64]          18,496\n",
      "         MaxPool2d-6           [-1, 64, 16, 32]               0\n",
      "              ReLU-7           [-1, 64, 16, 32]               0\n",
      "           Flatten-8                [-1, 32768]               0\n",
      "            Linear-9                 [-1, 4096]     134,221,824\n",
      "          Dropout-10                 [-1, 4096]               0\n",
      "           Linear-11                 [-1, 1024]       4,195,328\n",
      "          Dropout-12                 [-1, 1024]               0\n",
      "           Linear-13                  [-1, 512]         524,800\n",
      "          Dropout-14                  [-1, 512]               0\n",
      "           Linear-15                   [-1, 12]           6,156\n",
      "================================================================\n",
      "Total params: 138,971,404\n",
      "Trainable params: 138,971,404\n",
      "Non-trainable params: 0\n",
      "----------------------------------------------------------------\n",
      "Input size (MB): 0.12\n",
      "Forward/backward pass size (MB): 9.34\n",
      "Params size (MB): 530.13\n",
      "Estimated Total Size (MB): 539.59\n",
      "----------------------------------------------------------------\n"
     ]
    }
   ],
   "execution_count": 15
  },
  {
   "metadata": {
    "ExecuteTime": {
     "end_time": "2025-09-26T20:33:19.561110Z",
     "start_time": "2025-09-26T20:33:17.160835Z"
    }
   },
   "cell_type": "code",
   "source": [
    "criterion = nn.CrossEntropyLoss()\n",
    "optimizer = Adam(model.parameters(), lr=LR)"
   ],
   "id": "adf2e6fea8095efb",
   "outputs": [],
   "execution_count": 16
  },
  {
   "metadata": {
    "ExecuteTime": {
     "end_time": "2025-09-26T22:06:56.588308Z",
     "start_time": "2025-09-26T20:33:31.423613Z"
    }
   },
   "cell_type": "code",
   "source": [
    "total_loss_train_plot = []\n",
    "total_loss_validation_plot = []\n",
    "total_acc_train_plot = []\n",
    "total_acc_validation_plot = []\n",
    "start_time = time.time()\n",
    "\n",
    "for epoch in range(EPOCHS):\n",
    "    total_acc_train = 0\n",
    "    total_acc_validation = 0\n",
    "    total_loss_train = 0\n",
    "    total_loss_validation = 0\n",
    "\n",
    "    for inputs, labels in train_loader:\n",
    "        outputs = model(inputs)\n",
    "        train_loss = criterion(outputs, labels)\n",
    "        total_loss_train += train_loss.item()\n",
    "        train_loss.backward()\n",
    "\n",
    "        train_acc = (torch.argmax(outputs, axis = 1) == labels).sum().item()\n",
    "        total_acc_train += train_acc\n",
    "        optimizer.step()\n",
    "        optimizer.zero_grad()\n",
    "\n",
    "    with torch.no_grad():\n",
    "        for inputs, labels in val_loader:\n",
    "          outputs = model(inputs)\n",
    "          val_loss = criterion(outputs, labels)\n",
    "          total_loss_validation += val_loss.item()\n",
    "\n",
    "          val_acc = (torch.argmax(outputs, axis = 1) == labels).sum().item()\n",
    "          total_acc_validation += val_acc\n",
    "\n",
    "    total_loss_train_plot.append(round(total_loss_train / 1000, 4))\n",
    "    total_loss_validation_plot.append(round(total_loss_validation / 1000, 4))\n",
    "    total_acc_train_plot.append(round(total_acc_train / train_dataset.__len__()*100, 4))\n",
    "    total_acc_validation_plot.append(round(total_acc_validation / val_dataset.__len__()*10, 4))\n",
    "\n",
    "    print(f\"Epoch {epoch+1}/{EPOCHS} \\n\\t Train Loss: {round(total_loss_train / 100, 4)}, Train Accuracy: {round(total_acc_train / train_dataset.__len__()*100, 4)}%\\n\\t Validation Loss:{round(total_loss_validation / 100, 4)}, Validation Accuracy: {round(total_acc_validation / val_dataset.__len__()*100, 4)}%\\n\\n\")\n",
    "\n",
    "print(\"Training time is: \", round(time.time()-start_time, 4), \" seconds\")"
   ],
   "id": "eea579db8a0250ad",
   "outputs": [
    {
     "name": "stdout",
     "output_type": "stream",
     "text": [
      "Epoch 1/15 \n",
      "\t Train Loss: 9.9536, Train Accuracy: 37.9192%\n",
      "\t Validation Loss:0.5808, Validation Accuracy: 69.3918%\n",
      "\n",
      "\n",
      "Epoch 2/15 \n",
      "\t Train Loss: 1.9536, Train Accuracy: 79.1498%\n",
      "\t Validation Loss:0.2954, Validation Accuracy: 86.0419%\n",
      "\n",
      "\n",
      "Epoch 3/15 \n",
      "\t Train Loss: 1.0982, Train Accuracy: 88.4854%\n",
      "\t Validation Loss:0.2627, Validation Accuracy: 86.341%\n",
      "\n",
      "\n",
      "Epoch 4/15 \n",
      "\t Train Loss: 0.7721, Train Accuracy: 91.8821%\n",
      "\t Validation Loss:0.2232, Validation Accuracy: 89.8305%\n",
      "\n",
      "\n",
      "Epoch 5/15 \n",
      "\t Train Loss: 0.6269, Train Accuracy: 93.5484%\n",
      "\t Validation Loss:0.1501, Validation Accuracy: 93.6191%\n",
      "\n",
      "\n",
      "Epoch 6/15 \n",
      "\t Train Loss: 0.5176, Train Accuracy: 94.1252%\n",
      "\t Validation Loss:0.1485, Validation Accuracy: 93.7188%\n",
      "\n",
      "\n",
      "Epoch 7/15 \n",
      "\t Train Loss: 0.5235, Train Accuracy: 94.4456%\n",
      "\t Validation Loss:0.2186, Validation Accuracy: 92.2233%\n",
      "\n",
      "\n",
      "Epoch 8/15 \n",
      "\t Train Loss: 0.394, Train Accuracy: 96.0479%\n",
      "\t Validation Loss:0.1992, Validation Accuracy: 90.9272%\n",
      "\n",
      "\n",
      "Epoch 9/15 \n",
      "\t Train Loss: 0.4982, Train Accuracy: 94.8088%\n",
      "\t Validation Loss:0.2081, Validation Accuracy: 91.4257%\n",
      "\n",
      "\n",
      "Epoch 10/15 \n",
      "\t Train Loss: 0.401, Train Accuracy: 95.6633%\n",
      "\t Validation Loss:0.2142, Validation Accuracy: 90.7278%\n",
      "\n",
      "\n",
      "Epoch 11/15 \n",
      "\t Train Loss: 0.3732, Train Accuracy: 96.0051%\n",
      "\t Validation Loss:0.2743, Validation Accuracy: 90.2293%\n",
      "\n",
      "\n",
      "Epoch 12/15 \n",
      "\t Train Loss: 0.3925, Train Accuracy: 96.646%\n",
      "\t Validation Loss:0.1925, Validation Accuracy: 93.7188%\n",
      "\n",
      "\n",
      "Epoch 13/15 \n",
      "\t Train Loss: 0.4248, Train Accuracy: 96.1547%\n",
      "\t Validation Loss:0.1339, Validation Accuracy: 94.317%\n",
      "\n",
      "\n",
      "Epoch 14/15 \n",
      "\t Train Loss: 0.2034, Train Accuracy: 97.6501%\n",
      "\t Validation Loss:0.2843, Validation Accuracy: 92.0239%\n",
      "\n",
      "\n",
      "Epoch 15/15 \n",
      "\t Train Loss: 0.33, Train Accuracy: 96.7528%\n",
      "\t Validation Loss:0.1817, Validation Accuracy: 94.2173%\n",
      "\n",
      "\n",
      "Training time is:  5605.1049  seconds\n"
     ]
    }
   ],
   "execution_count": 17
  },
  {
   "metadata": {
    "ExecuteTime": {
     "end_time": "2025-09-27T19:48:17.392696Z",
     "start_time": "2025-09-27T19:48:00.588237Z"
    }
   },
   "cell_type": "code",
   "source": [
    "with torch.no_grad():\n",
    "    total_loss_test = 0\n",
    "    total_acc_test = 0\n",
    "    for inputs, labels in test_loader:\n",
    "        predictions = model(inputs)\n",
    "        acc = (torch.argmax(predictions, axis=1) == labels).sum().item()\n",
    "\n",
    "        total_acc_test += acc\n",
    "print(f\"Test Accuracy: {round(total_acc_test/test_dataset.__len__()*100, 4)}%\")"
   ],
   "id": "6b4457d54ef9faf1",
   "outputs": [
    {
     "name": "stdout",
     "output_type": "stream",
     "text": [
      "Test Accuracy: 93.8185%\n"
     ]
    }
   ],
   "execution_count": 21
  },
  {
   "metadata": {
    "ExecuteTime": {
     "end_time": "2025-09-27T19:47:53.956146Z",
     "start_time": "2025-09-27T19:47:53.093132Z"
    }
   },
   "cell_type": "code",
   "source": [
    "fig, axs = plt.subplots(nrows=1, ncols=2, figsize=(15, 5))\n",
    "\n",
    "axs[0].plot(total_loss_train_plot, label=\"Train Loss\")\n",
    "axs[0].plot(total_loss_validation_plot, label=\"Validation Loss\")\n",
    "axs[0].set_title(\"Train and Validation Loss\")\n",
    "axs[0].set_xlabel(\"Epoch\")\n",
    "axs[0].set_ylabel(\"Loss\")\n",
    "axs[0].legend()\n",
    "\n",
    "axs[1].plot(total_acc_train_plot, label=\"Train Accuracy\")\n",
    "axs[1].plot(total_acc_validation_plot, label=\"Validation Accuracy\")\n",
    "axs[1].set_title(\"Train and Validation Accuracy\")\n",
    "axs[1].set_xlabel(\"Epoch\")\n",
    "axs[1].set_ylabel(\"Accuracy\")\n",
    "axs[1].legend()\n",
    "\n",
    "plt.tight_layout()\n",
    "plt.show()"
   ],
   "id": "2d5cb36089ee4f6f",
   "outputs": [
    {
     "data": {
      "text/plain": [
       "<Figure size 1500x500 with 2 Axes>"
      ],
      "image/png": "[encoded data removed]"
     },
     "metadata": {},
     "output_type": "display_data"
    }
   ],
   "execution_count": 20
  },
  {
   "metadata": {
    "ExecuteTime": {
     "end_time": "2025-09-27T19:51:25.971914Z",
     "start_time": "2025-09-27T19:51:24.962388Z"
    }
   },
   "cell_type": "code",
   "source": "torch.save(model.state_dict(), \"model/audio_classification_model.pth\")",
   "id": "ee138dd047745d35",
   "outputs": [],
   "execution_count": 22
  },
  {
   "metadata": {
    "ExecuteTime": {
     "end_time": "2025-09-27T20:18:36.725179Z",
     "start_time": "2025-09-27T20:18:27.166511Z"
    }
   },
   "cell_type": "code",
   "source": [
    "model_load = Net().to(device)\n",
    "\n",
    "model_load.load_state_dict(torch.load(\"model/audio_classification_model.pth\"))\n",
    "model_load.eval()"
   ],
   "id": "43e3ab0e8b241e09",
   "outputs": [
    {
     "data": {
      "text/plain": [
       "Net(\n",
       "  (conv1): Conv2d(1, 16, kernel_size=(3, 3), stride=(1, 1), padding=(1, 1))\n",
       "  (conv2): Conv2d(16, 32, kernel_size=(3, 3), stride=(1, 1), padding=(1, 1))\n",
       "  (conv3): Conv2d(32, 64, kernel_size=(3, 3), stride=(1, 1), padding=(1, 1))\n",
       "  (pooling): MaxPool2d(kernel_size=2, stride=2, padding=0, dilation=1, ceil_mode=False)\n",
       "  (relu): ReLU()\n",
       "  (flatten): Flatten(start_dim=1, end_dim=-1)\n",
       "  (linear1): Linear(in_features=32768, out_features=4096, bias=True)\n",
       "  (linear2): Linear(in_features=4096, out_features=1024, bias=True)\n",
       "  (linear3): Linear(in_features=1024, out_features=512, bias=True)\n",
       "  (output): Linear(in_features=512, out_features=12, bias=True)\n",
       "  (dropout): Dropout(p=0.5, inplace=False)\n",
       ")"
      ]
     },
     "execution_count": 26,
     "metadata": {},
     "output_type": "execute_result"
    }
   ],
   "execution_count": 26
  },
  {
   "metadata": {
    "ExecuteTime": {
     "end_time": "2025-09-27T20:18:52.472077Z",
     "start_time": "2025-09-27T20:18:38.792128Z"
    }
   },
   "cell_type": "code",
   "source": [
    "with torch.no_grad():\n",
    "    total_loss_test = 0\n",
    "    total_acc_test = 0\n",
    "    for inputs, labels in test_loader:\n",
    "        predictions = model_load(inputs)\n",
    "        acc = (torch.argmax(predictions, axis=1) == labels).sum().item()\n",
    "\n",
    "        total_acc_test += acc\n",
    "print(f\"Test Accuracy: {round(total_acc_test/test_dataset.__len__()*100, 4)}%\")"
   ],
   "id": "27f86aeab34b359b",
   "outputs": [
    {
     "name": "stdout",
     "output_type": "stream",
     "text": [
      "Test Accuracy: 95.1147%\n"
     ]
    }
   ],
   "execution_count": 27
  },
  {
   "metadata": {},
   "cell_type": "code",
   "outputs": [],
   "execution_count": null,
   "source": "",
   "id": "9cf596e811f31b94"
  }
 ],
 "metadata": {
  "kernelspec": {
   "display_name": "Python 3",
   "language": "python",
   "name": "python3"
  },
  "language_info": {
   "codemirror_mode": {
    "name": "ipython",
    "version": 2
   },
   "file_extension": ".py",
   "mimetype": "text/x-python",
   "name": "python",
   "nbconvert_exporter": "python",
   "pygments_lexer": "ipython2",
   "version": "2.7.6"
  }
 },
 "nbformat": 4,
 "nbformat_minor": 5
}
