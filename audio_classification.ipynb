{
 "cells": [
  {
   "cell_type": "code",
   "id": "initial_id",
   "metadata": {
    "collapsed": true,
    "ExecuteTime": {
     "end_time": "2025-09-26T20:20:24.991190Z",
     "start_time": "2025-09-26T20:20:20.154676Z"
    }
   },
   "source": [
    "import torch\n",
    "from torch import nn\n",
    "from torch.optim import Adam\n",
    "from torchsummary import summary\n",
    "import librosa\n",
    "from torch.utils.data import DataLoader, Dataset\n",
    "from sklearn.preprocessing import LabelEncoder\n",
    "import numpy as np\n",
    "import matplotlib.pyplot as plt\n",
    "import pandas as pd\n",
    "import time\n",
    "import os\n",
    "from skimage.transform import resize\n",
    "\n",
    "device = \"cuda\" if torch.cuda.is_available() else \"cpu\""
   ],
   "outputs": [],
   "execution_count": 1
  },
  {
   "metadata": {
    "ExecuteTime": {
     "end_time": "2025-09-26T20:20:26.698641Z",
     "start_time": "2025-09-26T20:20:26.672743Z"
    }
   },
   "cell_type": "code",
   "source": "data_df = pd.read_csv(\"data/files_paths.csv\")",
   "id": "caf84e82a5095450",
   "outputs": [],
   "execution_count": 2
  },
  {
   "metadata": {
    "ExecuteTime": {
     "end_time": "2025-09-26T20:20:27.332544Z",
     "start_time": "2025-09-26T20:20:27.295299Z"
    }
   },
   "cell_type": "code",
   "source": "data_df.sample(5)",
   "id": "52b83ee2c84dd9d6",
   "outputs": [
    {
     "data": {
      "text/plain": [
       "                                             FilePath                 Class\n",
       "1590          ./Dataset/Maher_Almuaiqly/Maher_175.wav       Maher_Almuaiqly\n",
       "382     ./Dataset/Mohammed_Aluhaidan/lohaidan_422.wav    Mohammed_Aluhaidan\n",
       "4871  ./Dataset/AbdulRahman_Alsudais/alsudais_349.wav  AbdulRahman_Alsudais\n",
       "4582          ./Dataset/Mohammed_Ayoub/mAyoub_332.wav        Mohammed_Ayoub\n",
       "1194          ./Dataset/Maher_Almuaiqly/Maher_424.wav       Maher_Almuaiqly"
      ],
      "text/html": [
       "<div>\n",
       "<style scoped>\n",
       "    .dataframe tbody tr th:only-of-type {\n",
       "        vertical-align: middle;\n",
       "    }\n",
       "\n",
       "    .dataframe tbody tr th {\n",
       "        vertical-align: top;\n",
       "    }\n",
       "\n",
       "    .dataframe thead th {\n",
       "        text-align: right;\n",
       "    }\n",
       "</style>\n",
       "<table border=\"1\" class=\"dataframe\">\n",
       "  <thead>\n",
       "    <tr style=\"text-align: right;\">\n",
       "      <th></th>\n",
       "      <th>FilePath</th>\n",
       "      <th>Class</th>\n",
       "    </tr>\n",
       "  </thead>\n",
       "  <tbody>\n",
       "    <tr>\n",
       "      <th>1590</th>\n",
       "      <td>./Dataset/Maher_Almuaiqly/Maher_175.wav</td>\n",
       "      <td>Maher_Almuaiqly</td>\n",
       "    </tr>\n",
       "    <tr>\n",
       "      <th>382</th>\n",
       "      <td>./Dataset/Mohammed_Aluhaidan/lohaidan_422.wav</td>\n",
       "      <td>Mohammed_Aluhaidan</td>\n",
       "    </tr>\n",
       "    <tr>\n",
       "      <th>4871</th>\n",
       "      <td>./Dataset/AbdulRahman_Alsudais/alsudais_349.wav</td>\n",
       "      <td>AbdulRahman_Alsudais</td>\n",
       "    </tr>\n",
       "    <tr>\n",
       "      <th>4582</th>\n",
       "      <td>./Dataset/Mohammed_Ayoub/mAyoub_332.wav</td>\n",
       "      <td>Mohammed_Ayoub</td>\n",
       "    </tr>\n",
       "    <tr>\n",
       "      <th>1194</th>\n",
       "      <td>./Dataset/Maher_Almuaiqly/Maher_424.wav</td>\n",
       "      <td>Maher_Almuaiqly</td>\n",
       "    </tr>\n",
       "  </tbody>\n",
       "</table>\n",
       "</div>"
      ]
     },
     "execution_count": 3,
     "metadata": {},
     "output_type": "execute_result"
    }
   ],
   "execution_count": 3
  },
  {
   "metadata": {
    "ExecuteTime": {
     "end_time": "2025-09-26T20:20:28.016375Z",
     "start_time": "2025-09-26T20:20:28.004765Z"
    }
   },
   "cell_type": "code",
   "source": [
    "print(data_df[\"Class\"].unique())\n",
    "print(len(data_df[\"Class\"].unique()))\n"
   ],
   "id": "2584da51d6597a80",
   "outputs": [
    {
     "name": "stdout",
     "output_type": "stream",
     "text": [
      "['Mohammed_Aluhaidan' 'Yasser_Aldossary' 'Maher_Almuaiqly'\n",
      " 'Nasser_Alqutami' 'AbdulBari_Althubaity' 'Bander_Balilah'\n",
      " 'Ali_Alhothaify' 'Saud_Alshuraim' 'Mohammed_Ayoub' 'AbdulRahman_Alsudais'\n",
      " 'Saad_Alghamdi' 'Abdullah_Albuaijan']\n",
      "12\n"
     ]
    }
   ],
   "execution_count": 4
  },
  {
   "metadata": {
    "ExecuteTime": {
     "end_time": "2025-09-26T20:20:28.663293Z",
     "start_time": "2025-09-26T20:20:28.630861Z"
    }
   },
   "cell_type": "code",
   "source": [
    "data_df[\"FilePath\"] = 'data/Dataset'+data_df[\"FilePath\"].str[1:]\n",
    "\n",
    "data_df.head()"
   ],
   "id": "7098d95f474740c4",
   "outputs": [
    {
     "data": {
      "text/plain": [
       "                                            FilePath               Class\n",
       "0  data/Dataset/Dataset/Mohammed_Aluhaidan/lohaid...  Mohammed_Aluhaidan\n",
       "1  data/Dataset/Dataset/Mohammed_Aluhaidan/lohaid...  Mohammed_Aluhaidan\n",
       "2  data/Dataset/Dataset/Mohammed_Aluhaidan/lohaid...  Mohammed_Aluhaidan\n",
       "3  data/Dataset/Dataset/Mohammed_Aluhaidan/lohaid...  Mohammed_Aluhaidan\n",
       "4  data/Dataset/Dataset/Mohammed_Aluhaidan/lohaid...  Mohammed_Aluhaidan"
      ],
      "text/html": [
       "<div>\n",
       "<style scoped>\n",
       "    .dataframe tbody tr th:only-of-type {\n",
       "        vertical-align: middle;\n",
       "    }\n",
       "\n",
       "    .dataframe tbody tr th {\n",
       "        vertical-align: top;\n",
       "    }\n",
       "\n",
       "    .dataframe thead th {\n",
       "        text-align: right;\n",
       "    }\n",
       "</style>\n",
       "<table border=\"1\" class=\"dataframe\">\n",
       "  <thead>\n",
       "    <tr style=\"text-align: right;\">\n",
       "      <th></th>\n",
       "      <th>FilePath</th>\n",
       "      <th>Class</th>\n",
       "    </tr>\n",
       "  </thead>\n",
       "  <tbody>\n",
       "    <tr>\n",
       "      <th>0</th>\n",
       "      <td>data/Dataset/Dataset/Mohammed_Aluhaidan/lohaid...</td>\n",
       "      <td>Mohammed_Aluhaidan</td>\n",
       "    </tr>\n",
       "    <tr>\n",
       "      <th>1</th>\n",
       "      <td>data/Dataset/Dataset/Mohammed_Aluhaidan/lohaid...</td>\n",
       "      <td>Mohammed_Aluhaidan</td>\n",
       "    </tr>\n",
       "    <tr>\n",
       "      <th>2</th>\n",
       "      <td>data/Dataset/Dataset/Mohammed_Aluhaidan/lohaid...</td>\n",
       "      <td>Mohammed_Aluhaidan</td>\n",
       "    </tr>\n",
       "    <tr>\n",
       "      <th>3</th>\n",
       "      <td>data/Dataset/Dataset/Mohammed_Aluhaidan/lohaid...</td>\n",
       "      <td>Mohammed_Aluhaidan</td>\n",
       "    </tr>\n",
       "    <tr>\n",
       "      <th>4</th>\n",
       "      <td>data/Dataset/Dataset/Mohammed_Aluhaidan/lohaid...</td>\n",
       "      <td>Mohammed_Aluhaidan</td>\n",
       "    </tr>\n",
       "  </tbody>\n",
       "</table>\n",
       "</div>"
      ]
     },
     "execution_count": 5,
     "metadata": {},
     "output_type": "execute_result"
    }
   ],
   "execution_count": 5
  },
  {
   "metadata": {
    "ExecuteTime": {
     "end_time": "2025-09-26T20:20:29.659330Z",
     "start_time": "2025-09-26T20:20:29.652386Z"
    }
   },
   "cell_type": "code",
   "source": "data_df['FilePath'].iloc[2]",
   "id": "e2547adac5f3a60c",
   "outputs": [
    {
     "data": {
      "text/plain": [
       "'data/Dataset/Dataset/Mohammed_Aluhaidan/lohaidan_401.wav'"
      ]
     },
     "execution_count": 6,
     "metadata": {},
     "output_type": "execute_result"
    }
   ],
   "execution_count": 6
  },
  {
   "metadata": {
    "ExecuteTime": {
     "end_time": "2025-09-26T20:20:30.631071Z",
     "start_time": "2025-09-26T20:20:30.228866Z"
    }
   },
   "cell_type": "code",
   "source": [
    "print(\"Class distribution: \", data_df[\"Class\"].value_counts())\n",
    "print(\"Data shape: \", data_df.shape, \"\\n\")\n",
    "\n",
    "plt.figure(figsize=(8,8))\n",
    "\n",
    "plt.pie(data_df[\"Class\"].value_counts(),labels=data_df[\"Class\"].value_counts().index, autopct='%1.1f%%')\n",
    "\n",
    "plt.title(\"Class distribution\")\n",
    "plt.show()"
   ],
   "id": "372d3a8f1604f48e",
   "outputs": [
    {
     "name": "stdout",
     "output_type": "stream",
     "text": [
      "Class distribution:  Class\n",
      "Saud_Alshuraim          696\n",
      "Saad_Alghamdi           688\n",
      "AbdulRahman_Alsudais    648\n",
      "Yasser_Aldossary        576\n",
      "Ali_Alhothaify          576\n",
      "Bander_Balilah          576\n",
      "Maher_Almuaiqly         576\n",
      "Abdullah_Albuaijan      504\n",
      "Mohammed_Ayoub          480\n",
      "Nasser_Alqutami         456\n",
      "AbdulBari_Althubaity    456\n",
      "Mohammed_Aluhaidan      455\n",
      "Name: count, dtype: int64\n",
      "Data shape:  (6687, 2) \n",
      "\n"
     ]
    },
    {
     "data": {
      "text/plain": [
       "<Figure size 800x800 with 1 Axes>"
      ],
      "image/png": "[encoded data removed]"
     },
     "metadata": {},
     "output_type": "display_data"
    }
   ],
   "execution_count": 7
  },
  {
   "metadata": {
    "ExecuteTime": {
     "end_time": "2025-09-26T20:20:31.512594Z",
     "start_time": "2025-09-26T20:20:31.488436Z"
    }
   },
   "cell_type": "code",
   "source": [
    "label_encoder = LabelEncoder()\n",
    "data_df[\"Class\"] = label_encoder.fit_transform(data_df[\"Class\"])\n",
    "\n",
    "train = data_df.sample(frac=0.7, random_state = 7)\n",
    "test = data_df.drop(train.index)\n",
    "\n",
    "val = test.sample(frac=0.5, random_state = 7)\n",
    "test = test.drop(val.index)\n",
    "\n",
    "print(\"Train shape: \", train.shape)\n",
    "print(\"Val shape: \", val.shape)\n",
    "print(\"Test shape: \", test.shape)"
   ],
   "id": "fe19848bcb8b9fd2",
   "outputs": [
    {
     "name": "stdout",
     "output_type": "stream",
     "text": [
      "Train shape:  (4681, 2)\n",
      "Val shape:  (1003, 2)\n",
      "Test shape:  (1003, 2)\n"
     ]
    }
   ],
   "execution_count": 8
  },
  {
   "metadata": {
    "ExecuteTime": {
     "end_time": "2025-09-26T20:20:32.201847Z",
     "start_time": "2025-09-26T20:20:32.182489Z"
    }
   },
   "cell_type": "code",
   "source": [
    "class CustomAudioDataset(Dataset):\n",
    "    def __init__(self, dataframe):\n",
    "        self.dataframe = dataframe\n",
    "        self.labels = torch.Tensor(list(dataframe[\"Class\"])).type(torch.LongTensor).to(device)\n",
    "        self.audios = [torch.Tensor(self.get_spectrogram(path)).type(torch.FloatTensor) for path in dataframe['FilePath']]\n",
    "\n",
    "    def __len__(self):\n",
    "        return self.dataframe.shape[0]\n",
    "\n",
    "    def __getitem__(self, idx):\n",
    "        img_path = self.dataframe.iloc[idx, 0]\n",
    "        label = torch.Tensor(self.labels[idx]).to(device)\n",
    "        audio = (self.audios[idx]).unsqueeze(0).to(device)\n",
    "        return audio, label\n",
    "\n",
    "    def get_spectrogram(self, file_path):\n",
    "        sr = 22050\n",
    "        duration = 5\n",
    "        img_height = 128\n",
    "        img_width = 256\n",
    "\n",
    "        signal, sr = librosa.load(file_path, sr=sr, duration=duration)\n",
    "\n",
    "        spec = librosa.feature.melspectrogram(y=signal, sr=sr, n_fft=2048, hop_length=512, n_mels=128)\n",
    "        spec_db = librosa.power_to_db(spec, ref=np.max)\n",
    "\n",
    "        spec_resized = librosa.util.fix_length(spec_db, size = duration * sr // 512 + 1)\n",
    "        spec_resized = resize(spec_resized, (img_height, img_width), anti_aliasing=True)\n",
    "\n",
    "        return spec_resized"
   ],
   "id": "f4d02a0f5665536d",
   "outputs": [],
   "execution_count": 9
  },
  {
   "metadata": {
    "ExecuteTime": {
     "end_time": "2025-09-26T20:22:06.002487Z",
     "start_time": "2025-09-26T20:20:32.888083Z"
    }
   },
   "cell_type": "code",
   "source": [
    "train_dataset = CustomAudioDataset(dataframe=train)\n",
    "val_dataset = CustomAudioDataset(dataframe=val)\n",
    "test_dataset = CustomAudioDataset(dataframe=test)"
   ],
   "id": "c04d48d531a4377a",
   "outputs": [],
   "execution_count": 10
  },
  {
   "metadata": {
    "ExecuteTime": {
     "end_time": "2025-09-26T20:22:10.264447Z",
     "start_time": "2025-09-26T20:22:10.257303Z"
    }
   },
   "cell_type": "code",
   "source": [
    "LR = 1e-4\n",
    "BATCH_SIZE = 16\n",
    "EPOCHS = 25"
   ],
   "id": "7aff426bf97ad3d6",
   "outputs": [],
   "execution_count": 11
  },
  {
   "metadata": {
    "ExecuteTime": {
     "end_time": "2025-09-26T20:22:11.020852Z",
     "start_time": "2025-09-26T20:22:11.004421Z"
    }
   },
   "cell_type": "code",
   "source": [
    "train_loader = DataLoader(train_dataset, batch_size=BATCH_SIZE, shuffle=True)\n",
    "val_loader = DataLoader(val_dataset, batch_size=BATCH_SIZE, shuffle=True)\n",
    "test_loader = DataLoader(test_dataset, batch_size=BATCH_SIZE, shuffle=True)"
   ],
   "id": "4729a63cc6db6f02",
   "outputs": [],
   "execution_count": 12
  },
  {
   "metadata": {
    "ExecuteTime": {
     "end_time": "2025-09-26T20:22:11.684586Z",
     "start_time": "2025-09-26T20:22:11.672387Z"
    }
   },
   "cell_type": "code",
   "source": [
    "class Net(nn.Module):\n",
    "    def __init__(self):\n",
    "        super().__init__()\n",
    "\n",
    "        self.conv1 = nn.Conv2d(1, 16, kernel_size=3, padding=1)\n",
    "        self.conv2 = nn.Conv2d(16, 32, kernel_size=3, padding=1)\n",
    "        self.conv3 = nn.Conv2d(32, 64, kernel_size=3, padding=1)\n",
    "        self.pooling = nn.MaxPool2d(2,2)\n",
    "        self.relu = nn.ReLU()\n",
    "\n",
    "        self.flatten = nn.Flatten()\n",
    "        self.linear1 = nn.Linear(64*16*32, 4096)\n",
    "        self.linear2 = nn.Linear(4096, 1024)\n",
    "        self.linear3 = nn.Linear(1024, 512)\n",
    "        self.output = nn.Linear(512, len(data_df['Class'].unique()))\n",
    "\n",
    "        self.dropout = nn.Dropout(0.5)\n",
    "\n",
    "    def forward(self, x):\n",
    "        x = self.conv1(x)\n",
    "        x = self.pooling(x)\n",
    "        x = self.conv2(x)\n",
    "        x = self.pooling(x)\n",
    "        x = self.conv3(x)\n",
    "        x = self.pooling(x)\n",
    "        x = self.relu(x)\n",
    "\n",
    "        x = x.view(x.size(0), -1)\n",
    "\n",
    "        x = self.flatten(x)\n",
    "        x = self.linear1(x)\n",
    "        x = self.dropout(x)\n",
    "\n",
    "        x = self.linear2(x)\n",
    "        x = self.dropout(x)\n",
    "\n",
    "        x = self.linear3(x)\n",
    "        x = self.dropout(x)\n",
    "\n",
    "        x = self.output(x)\n",
    "\n",
    "        return x"
   ],
   "id": "e0ba7cc5e6fe3670",
   "outputs": [],
   "execution_count": 13
  },
  {
   "metadata": {
    "ExecuteTime": {
     "end_time": "2025-09-26T20:22:13.236080Z",
     "start_time": "2025-09-26T20:22:12.363324Z"
    }
   },
   "cell_type": "code",
   "source": [
    "model = Net().to(device)\n",
    "\n",
    "print(model)"
   ],
   "id": "8f26d5bcda4e5f42",
   "outputs": [
    {
     "name": "stdout",
     "output_type": "stream",
     "text": [
      "Net(\n",
      "  (conv1): Conv2d(1, 16, kernel_size=(3, 3), stride=(1, 1), padding=(1, 1))\n",
      "  (conv2): Conv2d(16, 32, kernel_size=(3, 3), stride=(1, 1), padding=(1, 1))\n",
      "  (conv3): Conv2d(32, 64, kernel_size=(3, 3), stride=(1, 1), padding=(1, 1))\n",
      "  (pooling): MaxPool2d(kernel_size=2, stride=2, padding=0, dilation=1, ceil_mode=False)\n",
      "  (relu): ReLU()\n",
      "  (flatten): Flatten(start_dim=1, end_dim=-1)\n",
      "  (linear1): Linear(in_features=32768, out_features=4096, bias=True)\n",
      "  (linear2): Linear(in_features=4096, out_features=1024, bias=True)\n",
      "  (linear3): Linear(in_features=1024, out_features=512, bias=True)\n",
      "  (output): Linear(in_features=512, out_features=12, bias=True)\n",
      "  (dropout): Dropout(p=0.5, inplace=False)\n",
      ")\n"
     ]
    }
   ],
   "execution_count": 14
  },
  {
   "metadata": {
    "ExecuteTime": {
     "end_time": "2025-09-26T20:22:13.717673Z",
     "start_time": "2025-09-26T20:22:13.441392Z"
    }
   },
   "cell_type": "code",
   "source": "summary(model, (1,128, 256))",
   "id": "80cf473a9d2d215",
   "outputs": [
    {
     "name": "stdout",
     "output_type": "stream",
     "text": [
      "----------------------------------------------------------------\n",
      "        Layer (type)               Output Shape         Param #\n",
      "================================================================\n",
      "            Conv2d-1         [-1, 16, 128, 256]             160\n",
      "         MaxPool2d-2          [-1, 16, 64, 128]               0\n",
      "            Conv2d-3          [-1, 32, 64, 128]           4,640\n",
      "         MaxPool2d-4           [-1, 32, 32, 64]               0\n",
      "            Conv2d-5           [-1, 64, 32, 64]          18,496\n",
      "         MaxPool2d-6           [-1, 64, 16, 32]               0\n",
      "              ReLU-7           [-1, 64, 16, 32]               0\n",
      "           Flatten-8                [-1, 32768]               0\n",
      "            Linear-9                 [-1, 4096]     134,221,824\n",
      "          Dropout-10                 [-1, 4096]               0\n",
      "           Linear-11                 [-1, 1024]       4,195,328\n",
      "          Dropout-12                 [-1, 1024]               0\n",
      "           Linear-13                  [-1, 512]         524,800\n",
      "          Dropout-14                  [-1, 512]               0\n",
      "           Linear-15                   [-1, 12]           6,156\n",
      "================================================================\n",
      "Total params: 138,971,404\n",
      "Trainable params: 138,971,404\n",
      "Non-trainable params: 0\n",
      "----------------------------------------------------------------\n",
      "Input size (MB): 0.12\n",
      "Forward/backward pass size (MB): 9.34\n",
      "Params size (MB): 530.13\n",
      "Estimated Total Size (MB): 539.59\n",
      "----------------------------------------------------------------\n"
     ]
    }
   ],
   "execution_count": 15
  },
  {
   "metadata": {
    "ExecuteTime": {
     "end_time": "2025-09-26T20:22:16.880932Z",
     "start_time": "2025-09-26T20:22:14.541534Z"
    }
   },
   "cell_type": "code",
   "source": [
    "criterion = nn.CrossEntropyLoss()\n",
    "optimizer = Adam(model.parameters(), lr=LR)"
   ],
   "id": "adf2e6fea8095efb",
   "outputs": [],
   "execution_count": 16
  },
  {
   "metadata": {
    "jupyter": {
     "is_executing": true
    },
    "ExecuteTime": {
     "start_time": "2025-09-26T20:22:17.795741Z"
    }
   },
   "cell_type": "code",
   "source": [
    "total_loss_train_plot = []\n",
    "total_loss_validation_plot = []\n",
    "total_acc_train_plot = []\n",
    "total_acc_validation_plot = []\n",
    "start_time = time.time()\n",
    "\n",
    "for epoch in range(EPOCHS):\n",
    "    total_acc_train = 0\n",
    "    total_acc_validation = 0\n",
    "    total_loss_train = 0\n",
    "    total_loss_validation = 0\n",
    "\n",
    "    for inputs, labels in train_loader:\n",
    "        outputs = model(inputs)\n",
    "        train_loss = criterion(outputs, labels)\n",
    "        total_loss_train += train_loss.item()\n",
    "        train_loss.backward()\n",
    "\n",
    "        train_acc = (torch.argmax(outputs, axis = 1) == labels).sum().item()\n",
    "        total_acc_train += train_acc\n",
    "        optimizer.step()\n",
    "        optimizer.zero_grad()\n",
    "\n",
    "    with torch.no_grad():\n",
    "        for inputs, labels in val_loader:\n",
    "          outputs = model(inputs)\n",
    "          val_loss = criterion(outputs, labels)\n",
    "          total_loss_validation += val_loss.item()\n",
    "\n",
    "          val_acc = (torch.argmax(outputs, axis = 1) == labels).sum().item()\n",
    "          total_acc_validation += val_acc\n",
    "\n",
    "    total_loss_train_plot.append(round(total_loss_train / 1000, 4))\n",
    "    total_loss_validation_plot.append(round(total_loss_validation / 1000, 4))\n",
    "    total_acc_train_plot.append(round(total_acc_train / train_dataset.__len__()*100, 4))\n",
    "    total_acc_validation_plot.append(round(total_acc_validation / val_dataset.__len__()*10, 4))\n",
    "\n",
    "    print(f\"Epoch {epoch+1}/{EPOCHS} \\n\\t Train Loss: {round(total_loss_train / 100, 4)}, Train Accuracy: {round(total_acc_train / train_dataset.__len__()*100, 4)}%\\n\\t Validation Loss:{round(total_loss_validation / 100, 4)}, Validation Accuracy: {round(total_acc_validation / val_dataset.__len__()*100, 4)}%\\n\\n\")\n",
    "\n",
    "print(\"Training time is: \", round(time.time()-start_time, 4), \" seconds\")"
   ],
   "id": "eea579db8a0250ad",
   "outputs": [],
   "execution_count": null
  },
  {
   "metadata": {},
   "cell_type": "code",
   "outputs": [],
   "execution_count": null,
   "source": [
    "with torch.no_grad():\n",
    "    total_loss_test = 0\n",
    "    total_acc_test = 0\n",
    "    for inputs, labels in test_loader:\n",
    "        predictions = model(inputs)\n",
    "        acc = (torch.argmax(predictions, axis=1) == labels).sum().item()\n",
    "\n",
    "        total_acc_test += acc\n",
    "print(f\"Test Accuracy: {round(total_acc_test/test_dataset.__len__()*100, 4)}%\")"
   ],
   "id": "6b4457d54ef9faf1"
  },
  {
   "metadata": {},
   "cell_type": "code",
   "outputs": [],
   "execution_count": null,
   "source": [
    "fig, axs = plt.subplots(nrows=1, ncols=2, figsize=(15, 5))\n",
    "\n",
    "axs[0].plot(total_loss_train_plot, label=\"Train Loss\")\n",
    "axs[0].plot(total_loss_validation_plot, label=\"Validation Loss\")\n",
    "axs[0].set_title(\"Train and Validation Loss\")\n",
    "axs[0].set_xlabel(\"Epoch\")\n",
    "axs[0].set_ylabel(\"Loss\")\n",
    "axs[0].legend()\n",
    "\n",
    "axs[1].plot(total_acc_train_plot, label=\"Train Accuracy\")\n",
    "axs[1].plot(total_acc_validation_plot, label=\"Validation Accuracy\")\n",
    "axs[1].set_title(\"Train and Validation Accuracy\")\n",
    "axs[1].set_xlabel(\"Epoch\")\n",
    "axs[1].set_ylabel(\"Accuracy\")\n",
    "axs[1].legend()\n",
    "\n",
    "plt.tight_layout()\n",
    "plt.show()"
   ],
   "id": "2d5cb36089ee4f6f"
  }
 ],
 "metadata": {
  "kernelspec": {
   "display_name": "Python 3",
   "language": "python",
   "name": "python3"
  },
  "language_info": {
   "codemirror_mode": {
    "name": "ipython",
    "version": 2
   },
   "file_extension": ".py",
   "mimetype": "text/x-python",
   "name": "python",
   "nbconvert_exporter": "python",
   "pygments_lexer": "ipython2",
   "version": "2.7.6"
  }
 },
 "nbformat": 4,
 "nbformat_minor": 5
}
